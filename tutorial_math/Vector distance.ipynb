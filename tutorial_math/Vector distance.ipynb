{
 "cells": [
  {
   "cell_type": "code",
   "execution_count": 2,
   "metadata": {},
   "outputs": [],
   "source": [
    "import numpy as np"
   ]
  },
  {
   "cell_type": "markdown",
   "metadata": {},
   "source": [
    "### One-Hot-Encoding\n",
    "\n",
    "Vector 사이의 거리가 똑같아 아무런 의미를 같지못한다."
   ]
  },
  {
   "cell_type": "code",
   "execution_count": 3,
   "metadata": {},
   "outputs": [],
   "source": [
    "def distance(v1,v2): \n",
    "    return sum([(x-y)**2 for (x,y) in zip(v1,v2)])**(0.5)"
   ]
  },
  {
   "cell_type": "code",
   "execution_count": 4,
   "metadata": {},
   "outputs": [
    {
     "name": "stdout",
     "output_type": "stream",
     "text": [
      "1.4142135623730951\n",
      "1.4142135623730951\n",
      "1.4142135623730951\n",
      "1.4142135623730951\n",
      "1.4142135623730951\n",
      "1.4142135623730951\n",
      "1.4142135623730951\n",
      "1.4142135623730951\n",
      "1.4142135623730951\n",
      "1.4142135623730951\n"
     ]
    }
   ],
   "source": [
    "x1 = [1, 0, 0, 0, 0]\n",
    "x2 = [0, 1, 0, 0, 0]\n",
    "x3 = [0, 0, 1, 0, 0]\n",
    "x4 = [0, 0, 0, 1, 0]\n",
    "x5 = [0, 0, 0, 0, 1]\n",
    "\n",
    "print(distance(x1, x2))\n",
    "print(distance(x1, x3))\n",
    "print(distance(x1, x4))\n",
    "print(distance(x1, x5))\n",
    "\n",
    "print(distance(x2, x3))\n",
    "print(distance(x2, x4))\n",
    "print(distance(x2, x5))\n",
    "\n",
    "print(distance(x3, x4))\n",
    "print(distance(x3, x5))\n",
    "\n",
    "print(distance(x4, x5))"
   ]
  }
 ],
 "metadata": {
  "kernelspec": {
   "display_name": "Python 3",
   "language": "python",
   "name": "python3"
  },
  "language_info": {
   "codemirror_mode": {
    "name": "ipython",
    "version": 3
   },
   "file_extension": ".py",
   "mimetype": "text/x-python",
   "name": "python",
   "nbconvert_exporter": "python",
   "pygments_lexer": "ipython3",
   "version": "3.6.5"
  }
 },
 "nbformat": 4,
 "nbformat_minor": 2
}
